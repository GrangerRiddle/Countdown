{
 "cells": [
  {
   "cell_type": "code",
   "execution_count": 3,
   "id": "3dd512d9",
   "metadata": {},
   "outputs": [
    {
     "name": "stdout",
     "output_type": "stream",
     "text": [
      "Length of the countdown in seconds: 14\n",
      "Fire in the hole\n"
     ]
    }
   ],
   "source": [
    "import time\n",
    "def countdown(t):\n",
    "    while t > 0:\n",
    "        (m,s) = divmod(t, 60)\n",
    "        print(\"{:02d}:{:02d}\".format(m, s), end = \"\\r\")\n",
    "        time.sleep(1)\n",
    "        t = t-1\n",
    "    print(\"Fire in the hole\")\n",
    "\n",
    "counti = int(input(\"Length of the countdown in seconds: \"))\n",
    "countdown(counti)"
   ]
  }
 ],
 "metadata": {
  "kernelspec": {
   "display_name": "Python 3",
   "language": "python",
   "name": "python3"
  },
  "language_info": {
   "codemirror_mode": {
    "name": "ipython",
    "version": 3
   },
   "file_extension": ".py",
   "mimetype": "text/x-python",
   "name": "python",
   "nbconvert_exporter": "python",
   "pygments_lexer": "ipython3",
   "version": "3.8.8"
  }
 },
 "nbformat": 4,
 "nbformat_minor": 5
}
